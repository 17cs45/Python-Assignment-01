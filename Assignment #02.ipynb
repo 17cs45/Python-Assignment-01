{
 "cells": [
  {
   "cell_type": "code",
   "execution_count": 7,
   "metadata": {},
   "outputs": [
    {
     "name": "stdout",
     "output_type": "stream",
     "text": [
      "Enter Marks of 5 subjects (separte by comma) : 60,70,80,90,100\n",
      "Congratulation You got A Grade\n"
     ]
    }
   ],
   "source": [
    "'''\n",
    "1. Write a program which takes 5 inputs from user for different subject’s\n",
    "marks, total it and generate mark sheet using grades ?\n",
    "'''\n",
    "Subject1, subject2, subject3, subject4, subject5 = input('Enter Marks of 5 subjects (separte by comma) : ').split(',')\n",
    "total = int(Subject1) + int(subject2) + int(subject3) + int(subject4) + int(subject5)\n",
    "percentage = total/500 * 100\n",
    "if percentage >=85:\n",
    "    print('Congratulation You got A+ Grade')\n",
    "elif percentage >= 80 and percentage < 85:\n",
    "    print('Congratulation You got A Grade')\n",
    "elif percentage >= 75 and percentage < 80:\n",
    "    print('Congratulation You got B+ Grade')\n",
    "elif percentage >= 70 and percentage < 75:\n",
    "    print('Congratulation You got B Grade')\n",
    "elif percentage >= 60 and percentage < 70:\n",
    "    print('Congratulation You got C+ Grade')\n",
    "elif percentage >= 50 and percentage < 60:\n",
    "    print('Congratulation You got C Grade')\n",
    "else:\n",
    "    print('Sorry! You are Fail')"
   ]
  },
  {
   "cell_type": "code",
   "execution_count": 12,
   "metadata": {},
   "outputs": [
    {
     "name": "stdout",
     "output_type": "stream",
     "text": [
      "Enter a Number :4\n",
      "Number is even\n"
     ]
    }
   ],
   "source": [
    "'''\n",
    "2. Write a program which take input from user and identify that the given\n",
    "number is even or odd?\n",
    "'''\n",
    "Number = int(input('Enter a Number :'))\n",
    "if Number  % 2 ==0:\n",
    "    print('Number is even')\n",
    "else:\n",
    "    print('Number is odd ')"
   ]
  },
  {
   "cell_type": "code",
   "execution_count": 15,
   "metadata": {},
   "outputs": [
    {
     "name": "stdout",
     "output_type": "stream",
     "text": [
      "Length of list 12\n"
     ]
    }
   ],
   "source": [
    "# 3. Write a program which print the length of the list?\n",
    "List = list(range(12))\n",
    "print('Length of list',len(List))"
   ]
  },
  {
   "cell_type": "code",
   "execution_count": 16,
   "metadata": {},
   "outputs": [
    {
     "name": "stdout",
     "output_type": "stream",
     "text": [
      "Sum of All elements in list =  66\n"
     ]
    }
   ],
   "source": [
    "# 4. Write a Python program to sum all the numeric items in a list?\n",
    "List = list(range(12))\n",
    "total = 0\n",
    "for i in List:\n",
    "    total += i\n",
    "print(\"Sum of All elements in list = \",total)"
   ]
  },
  {
   "cell_type": "code",
   "execution_count": 18,
   "metadata": {},
   "outputs": [
    {
     "name": "stdout",
     "output_type": "stream",
     "text": [
      "Greatest Number in List =  99\n"
     ]
    }
   ],
   "source": [
    "# Write a Python program to get the largest number from a numeric list.\n",
    "List = [10,2,8,20,99,54,2,25]\n",
    "temp = 0\n",
    "for i in List:\n",
    "    if i > temp:\n",
    "        temp = i\n",
    "print('Greatest Number in List = ',temp)"
   ]
  },
  {
   "cell_type": "code",
   "execution_count": 22,
   "metadata": {},
   "outputs": [
    {
     "name": "stdout",
     "output_type": "stream",
     "text": [
      "1\n",
      "1\n",
      "2\n",
      "3\n"
     ]
    }
   ],
   "source": [
    "'''\n",
    "Take a list, say for example this one:\n",
    "a = [1, 1, 2, 3, 5, 8, 13, 21, 34, 55, 89]\n",
    "and write a program that prints out all the elements of the list that are\n",
    "less than 5.\n",
    "'''\n",
    "List = [1, 1, 2, 3, 5, 8, 13, 21, 34, 55, 89]\n",
    "new_list = [i for i in List if i < 5]\n",
    "for i in new_list:\n",
    "    print(i)"
   ]
  },
  {
   "cell_type": "code",
   "execution_count": 1,
   "metadata": {},
   "outputs": [
    {
     "data": {
      "text/plain": [
       "'C:\\\\Users\\\\Bilawal Khan'"
      ]
     },
     "execution_count": 1,
     "metadata": {},
     "output_type": "execute_result"
    }
   ],
   "source": [
    "pwd"
   ]
  },
  {
   "cell_type": "code",
   "execution_count": null,
   "metadata": {},
   "outputs": [],
   "source": []
  }
 ],
 "metadata": {
  "kernelspec": {
   "display_name": "Python 3",
   "language": "python",
   "name": "python3"
  },
  "language_info": {
   "codemirror_mode": {
    "name": "ipython",
    "version": 3
   },
   "file_extension": ".py",
   "mimetype": "text/x-python",
   "name": "python",
   "nbconvert_exporter": "python",
   "pygments_lexer": "ipython3",
   "version": "3.7.3"
  }
 },
 "nbformat": 4,
 "nbformat_minor": 2
}
