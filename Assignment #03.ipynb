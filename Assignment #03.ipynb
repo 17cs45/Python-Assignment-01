{
 "cells": [
  {
   "cell_type": "code",
   "execution_count": 1,
   "metadata": {},
   "outputs": [
    {
     "name": "stdout",
     "output_type": "stream",
     "text": [
      "Enter 1st Number :4\n",
      "Enter 2nd Number :2\n",
      "Addition =  6\n",
      "Subtraction =  2\n",
      "Product =  8\n",
      "Division =  2\n",
      "Power =  16\n"
     ]
    }
   ],
   "source": [
    "# 1. Make a calculator using Python with addition , subtraction , multiplication ,\n",
    "# division and power.\n",
    "Number1 = int(input('Enter 1st Number :'))\n",
    "Number2 = int(input('Enter 2nd Number :'))\n",
    "print('Addition = ',Number1+Number2)\n",
    "print('Subtraction = ',Number1-Number2)\n",
    "print('Product = ',Number1*Number2)\n",
    "print('Division = ',Number1//Number2)\n",
    "print('Power = ',Number1**2)"
   ]
  },
  {
   "cell_type": "code",
   "execution_count": 5,
   "metadata": {},
   "outputs": [
    {
     "name": "stdout",
     "output_type": "stream",
     "text": [
      "1\n",
      "2\n",
      "3.0\n"
     ]
    }
   ],
   "source": [
    "# 2. Write a program to check if there is any numeric value in list using for loop\n",
    "List = ['Bilawal','Engineer',1,2,3.0,'3']\n",
    "for i in List:\n",
    "    if type(i) == int or type(i) == float:\n",
    "        print(i)"
   ]
  },
  {
   "cell_type": "code",
   "execution_count": 7,
   "metadata": {},
   "outputs": [
    {
     "name": "stdout",
     "output_type": "stream",
     "text": [
      "Original Dictionary =  {0: 11, 1: 12}\n",
      "Updated Dictionary =  {0: 11, 1: 12, 2: 13}\n"
     ]
    }
   ],
   "source": [
    "# 3. Write a Python script to add a key to a dictionary\n",
    "dict = {0:11,1:12}\n",
    "print('Original Dictionary = ',dict)\n",
    "dict.update({2:13})\n",
    "print('Updated Dictionary = ',dict)"
   ]
  },
  {
   "cell_type": "code",
   "execution_count": 9,
   "metadata": {},
   "outputs": [
    {
     "name": "stdout",
     "output_type": "stream",
     "text": [
      "Sum of All Numeric Values Avalaible in Dictionary =  6.0\n"
     ]
    }
   ],
   "source": [
    "# 4. Write a Python program to sum all the numeric items in a dictionary\n",
    "dict = {0:'Bilawal',1:1.0,2:'Engineer',3:5,4:True}\n",
    "total = 0\n",
    "for i in dict.values():\n",
    "    if type(i) == int or type(i) == float:\n",
    "        total+=i\n",
    "print('Sum of All Numeric Values Avalaible in Dictionary = ',total)"
   ]
  },
  {
   "cell_type": "code",
   "execution_count": 10,
   "metadata": {},
   "outputs": [
    {
     "name": "stdout",
     "output_type": "stream",
     "text": [
      "20  is duplicated value\n",
      "60  is duplicated value\n"
     ]
    }
   ],
   "source": [
    "# 5. Write a program to identify duplicate values from list\n",
    "list = [10,20,20,40,50,60,70,80,60]\n",
    "temp = 0\n",
    "for i in list:\n",
    "    if list.count(i)>1 and i !=temp:\n",
    "        print(i,\" is duplicated value\")\n",
    "        temp = i"
   ]
  },
  {
   "cell_type": "code",
   "execution_count": 13,
   "metadata": {},
   "outputs": [
    {
     "name": "stdout",
     "output_type": "stream",
     "text": [
      "Enter Key you want to search : 4\n",
      "4  Is Present\n"
     ]
    }
   ],
   "source": [
    "# 6. Write a Python script to check if a given key already exists in a dictionary\n",
    "dict = {0:'Bilawal',1:1.0,2:'Engineer',3:5,4:True}\n",
    "key = int(input('Enter Key you want to search : '))\n",
    "if key in dict:\n",
    "    print(key,' Is Present')\n",
    "else:\n",
    "    print(key,' Is Not Present')"
   ]
  },
  {
   "cell_type": "code",
   "execution_count": null,
   "metadata": {},
   "outputs": [],
   "source": []
  }
 ],
 "metadata": {
  "kernelspec": {
   "display_name": "Python 3",
   "language": "python",
   "name": "python3"
  },
  "language_info": {
   "codemirror_mode": {
    "name": "ipython",
    "version": 3
   },
   "file_extension": ".py",
   "mimetype": "text/x-python",
   "name": "python",
   "nbconvert_exporter": "python",
   "pygments_lexer": "ipython3",
   "version": "3.7.3"
  }
 },
 "nbformat": 4,
 "nbformat_minor": 2
}
