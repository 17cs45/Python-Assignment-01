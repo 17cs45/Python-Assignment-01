{
 "cells": [
  {
   "cell_type": "code",
   "execution_count": 15,
   "metadata": {},
   "outputs": [
    {
     "name": "stdout",
     "output_type": "stream",
     "text": [
      "Original Dictionary : \n",
      "{'First Name': 'Bilawal', 'Last Name ': 'Abbasi', 'Age': 21, 'City': 'Hyderabad'}\n",
      "\n",
      "Adding new key value pair Dictionary : \n",
      "{'First Name': 'Bilawal', 'Last Name ': 'Abbasi', 'Age': 21, 'City': 'Hyderabad', 'Qualification': 'Intermediate'}\n",
      "\n",
      "Update the value of Qualification key : \n",
      "{'First Name': 'Bilawal', 'Last Name ': 'Abbasi', 'Age': 21, 'City': 'Hyderabad', 'Qualification': 'Undergraduate'}\n",
      "\n",
      "Delete the Qualification key : \n",
      "{'First Name': 'Bilawal', 'Last Name ': 'Abbasi', 'Age': 21, 'City': 'Hyderabad'}\n"
     ]
    }
   ],
   "source": [
    "'''\n",
    "1. Use a dictionary to store information about a person you know. Store their first name, last name, age,\n",
    "and the city in which they live. You should have keys such as first_name, last_name, age, and city. Print\n",
    "each piece of information stored in your dictionary. Add a new key value pair about qualification then\n",
    "update the qualification value to high academic level then delete it.\n",
    "\n",
    "'''\n",
    "person = {'First Name':'Bilawal','Last Name ':'Abbasi','Age':21,'City':'Hyderabad'}\n",
    "print('Original Dictionary : ')\n",
    "print(person)\n",
    "print('\\nAdding new key value pair Dictionary : ')\n",
    "person['Qualification'] = \"Intermediate\"\n",
    "print(person)\n",
    "print('\\nUpdate the value of Qualification key : ')\n",
    "Update = {'Qualification':'Undergraduate'}\n",
    "person.update(Update)\n",
    "print(person)\n",
    "print('\\nDelete the Qualification key : ')\n",
    "del person['Qualification']\n",
    "print(person)"
   ]
  },
  {
   "cell_type": "code",
   "execution_count": 24,
   "metadata": {},
   "outputs": [
    {
     "name": "stdout",
     "output_type": "stream",
     "text": [
      "City  Karachi  Info =  {'Country': 'Pakistan', 'Population': '14.91 Million', 'Fact': 'City of Lights'}\n",
      "City  Lahore  Info =  {'Country': 'Pakistan', 'Population': '11.13 Million', 'Fact': 'jine lahore nai vekhya o jamiya-e-ni '}\n",
      "City  Hyderabad  Info =  {'Country': 'Pakistan', 'Population': '1.733 Million', 'Fact': 'The Famous Bombay Bakery'}\n"
     ]
    }
   ],
   "source": [
    "'''\n",
    "2. Make a dictionary called cities. Use the names of three cities as keys in your dictionary. Create a\n",
    "dictionary of information about each city and include the country that the city is in, its approximate\n",
    "population, and one fact about that city. The keys for each city’s dictionary should be something like\n",
    "country, population, and fact. Print the name of each city and all of the information you have stored\n",
    "about it.\n",
    "'''\n",
    "cities = {'Karachi':{'Country':'Pakistan','Population':'14.91 Million','Fact':'City of Lights'},\n",
    "          'Lahore':{'Country':'Pakistan','Population':'11.13 Million','Fact':'jine lahore nai vekhya o jamiya-e-ni '},\n",
    "          'Hyderabad':{'Country':'Pakistan','Population':'1.733 Million','Fact':'The Famous Bombay Bakery'}}\n",
    "for i in cities.keys():\n",
    "    print('City ',i,' Info = ',cities[i])"
   ]
  },
  {
   "cell_type": "code",
   "execution_count": 1,
   "metadata": {},
   "outputs": [
    {
     "name": "stdout",
     "output_type": "stream",
     "text": [
      "Enter Your Age : 2\n",
      "Ticket is Free\n",
      "Fill another Response (Y/N) : Y\n",
      "Enter Your Age : 12\n",
      "Ticket Fee $12\n",
      "Fill another Response (Y/N) : Y\n",
      "Enter Your Age : 15\n",
      "Ticket Fee $15\n",
      "Fill another Response (Y/N) : N\n"
     ]
    }
   ],
   "source": [
    "'''\n",
    "3. A movie theater charges different ticket prices depending on a person’s age. If a person is under the age\n",
    "of 3, the ticket is free; if they are between 3 and 12, the ticket is $10; and if they are over age 12, the\n",
    "ticket is $15. Write a loop in which you ask users their age, and then tell them the cost of their movie\n",
    "ticket.\n",
    "'''\n",
    "choice = 'Y'\n",
    "while (choice != 'N' or choice != 'N'):\n",
    "    age = int(input('Enter Your Age : '))\n",
    "    if age < 3:\n",
    "        print('Ticket is Free')\n",
    "    elif age >=3 and age<=12:\n",
    "        print('Ticket Fee $12')\n",
    "    else:\n",
    "        print('Ticket Fee $15')\n",
    "    choice = input('Fill another Response (Y/N) : ')"
   ]
  },
  {
   "cell_type": "code",
   "execution_count": 3,
   "metadata": {},
   "outputs": [
    {
     "name": "stdout",
     "output_type": "stream",
     "text": [
      "Enter Book Title :I can make you happy\n",
      "My farvt Book is  I can make you happy\n"
     ]
    }
   ],
   "source": [
    "'''\n",
    "4. Write a function called favorite_book() that accepts one parameter, title. The function should print a\n",
    "message, such as One of my favorite books is Alice in Wonderland. Call the function, making sure to\n",
    "include a book title as an argument in the function call.\n",
    "'''\n",
    "\n",
    "def Favrt_book(title):\n",
    "    print(\"My farvt Book is \",title)\n",
    "Title = input('Enter Book Title :')\n",
    "Favrt_book(Title)"
   ]
  },
  {
   "cell_type": "code",
   "execution_count": 7,
   "metadata": {},
   "outputs": [
    {
     "name": "stdout",
     "output_type": "stream",
     "text": [
      "Guess A Number : 10\n",
      "Guessed Number is less than Winnig Number\n",
      "Guess A Number : 22\n",
      "Guessed Number is Greater than Winnig Number\n",
      "Guess A Number : 18\n",
      "Congratulation You won!\n"
     ]
    }
   ],
   "source": [
    "'''\n",
    "5. Guess the number game\n",
    "Write a program which randomly generate a number between 1 to 30 and ask the user in input field to\n",
    "guess the correct number. Give three chances to user guess the number and also give hint to user if\n",
    "hidden number is greater or smaller than the number he given to input field.\n",
    "import random\n",
    "\n",
    "'''\n",
    "wining_number = random.randint(1,30)\n",
    "i = 0\n",
    "while(i<3):\n",
    "    Guess = int(input('Guess A Number : '))\n",
    "    if (Guess < wining_number):\n",
    "        print('Guessed Number is less than Winnig Number')\n",
    "    elif (Guess > wining_number):\n",
    "        print('Guessed Number is Greater than Winnig Number')\n",
    "    else:\n",
    "        print(\"Congratulation You won!\")\n",
    "    i+=1"
   ]
  },
  {
   "cell_type": "code",
   "execution_count": null,
   "metadata": {},
   "outputs": [],
   "source": []
  }
 ],
 "metadata": {
  "kernelspec": {
   "display_name": "Python 3",
   "language": "python",
   "name": "python3"
  },
  "language_info": {
   "codemirror_mode": {
    "name": "ipython",
    "version": 3
   },
   "file_extension": ".py",
   "mimetype": "text/x-python",
   "name": "python",
   "nbconvert_exporter": "python",
   "pygments_lexer": "ipython3",
   "version": "3.7.3"
  }
 },
 "nbformat": 4,
 "nbformat_minor": 2
}
