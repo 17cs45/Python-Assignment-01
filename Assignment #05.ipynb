{
 "cells": [
  {
   "cell_type": "code",
   "execution_count": 6,
   "metadata": {},
   "outputs": [
    {
     "name": "stdout",
     "output_type": "stream",
     "text": [
      "Enter A Number : 6\n",
      "Factorial =  720\n"
     ]
    }
   ],
   "source": [
    "'''1. Write a Python function to calculate the factorial of a number (a non-negative\n",
    "integer). The function accepts the number as an argument.'''\n",
    "def factorial(num):\n",
    "    fact = 1 \n",
    "    while( num !=0):\n",
    "        fact*=num\n",
    "        num-=1\n",
    "    return fact\n",
    "Number = int(input(\"Enter A Number : \"))\n",
    "print(\"Factorial = \",factorial(Number))"
   ]
  },
  {
   "cell_type": "code",
   "execution_count": 1,
   "metadata": {},
   "outputs": [
    {
     "name": "stdout",
     "output_type": "stream",
     "text": [
      "Enter Any string : BiLawal\n",
      "BiLawal has 2 letters and 5 letters \n"
     ]
    }
   ],
   "source": [
    "'''2. Write a Python function that accepts a string and calculate the number of upper\n",
    "case letters and lower case letters.'''\n",
    "def upperlowercount(string):\n",
    "    upper,lower = 0,0\n",
    "    for i in string:\n",
    "        if(i.isupper()):\n",
    "            upper+=1\n",
    "        else:\n",
    "            lower+=1\n",
    "    return upper,lower\n",
    "string = input(\"Enter Any string : \")\n",
    "upper,lower = upperlowercount(string)\n",
    "print(f\"{string} has {upper} letters and {lower} letters \")"
   ]
  },
  {
   "cell_type": "code",
   "execution_count": 3,
   "metadata": {},
   "outputs": [
    {
     "name": "stdout",
     "output_type": "stream",
     "text": [
      "Output :  [4, 8, 12, 16, 20]\n"
     ]
    }
   ],
   "source": [
    "# 3. Write a Python function to print the even numbers from a given list.\n",
    "def even(list):\n",
    "    list = [i for i in list if i % 2 == 0]\n",
    "    return list\n",
    "list = [1,3,4,8,12,13,16,17,20]\n",
    "print(\"Output : \",even(list))"
   ]
  },
  {
   "cell_type": "code",
   "execution_count": 8,
   "metadata": {},
   "outputs": [
    {
     "name": "stdout",
     "output_type": "stream",
     "text": [
      "Enter Any string : Madam\n",
      "String is Palidromic\n"
     ]
    }
   ],
   "source": [
    "'''4. Write a Python function that checks whether a passed string is palindrome or not.\n",
    "Note: A palindrome is a word, phrase, or sequence that reads the same\n",
    "backward as forward, e.g., madam'''\n",
    "def Ispalidromic(string):\n",
    "    string = string.lower()\n",
    "    if (string == string[-1::-1]):\n",
    "        return True\n",
    "    else:\n",
    "        return False\n",
    "string = input(\"Enter Any string : \")\n",
    "if (Ispalidromic(string)):\n",
    "    print(\"String is Palidromic\")\n",
    "else:\n",
    "    print(\"String is Not Palidromic\")"
   ]
  },
  {
   "cell_type": "code",
   "execution_count": 18,
   "metadata": {},
   "outputs": [
    {
     "name": "stdout",
     "output_type": "stream",
     "text": [
      "Enter A Number : 17\n",
      "Prime Number\n"
     ]
    }
   ],
   "source": [
    "'''5. Write a Python function that takes a number as a parameter and check the\n",
    "number is prime or not.'''\n",
    "def Isprime(Number):\n",
    "    if(Number > 1):\n",
    "        for i in range(2,Number//2+1):\n",
    "            if(Number % i == 0):\n",
    "                return False\n",
    "    return True\n",
    "Number = int(input(\"Enter A Number : \"))\n",
    "if Isprime(Number):\n",
    "   print(\"Prime Number\")\n",
    "else:\n",
    "    print(\"Not a Prime Number\")"
   ]
  },
  {
   "cell_type": "code",
   "execution_count": 25,
   "metadata": {},
   "outputs": [
    {
     "name": "stdout",
     "output_type": "stream",
     "text": [
      "You Bought these items :\n",
      "egg\n",
      "vegetables\n",
      "milk\n",
      "chicken\n"
     ]
    }
   ],
   "source": [
    "'''6. Suppose a customer is shopping in a market and you need to print all the items\n",
    "which user bought from market.\n",
    "Write a function which accepts the multiple arguments of user shopping list and\n",
    "print all the items which user bought from market.'''\n",
    "\n",
    "def print_item_in_list(*items):\n",
    "    print(\"You Bought these items :\")\n",
    "    for i in items:\n",
    "        print(i,end = '\\n')\n",
    "print_item_in_list(\"egg\",\"vegetables\",\"milk\",\"chicken\")"
   ]
  },
  {
   "cell_type": "code",
   "execution_count": null,
   "metadata": {},
   "outputs": [],
   "source": []
  }
 ],
 "metadata": {
  "kernelspec": {
   "display_name": "Python 3",
   "language": "python",
   "name": "python3"
  },
  "language_info": {
   "codemirror_mode": {
    "name": "ipython",
    "version": 3
   },
   "file_extension": ".py",
   "mimetype": "text/x-python",
   "name": "python",
   "nbconvert_exporter": "python",
   "pygments_lexer": "ipython3",
   "version": "3.7.3"
  }
 },
 "nbformat": 4,
 "nbformat_minor": 2
}
